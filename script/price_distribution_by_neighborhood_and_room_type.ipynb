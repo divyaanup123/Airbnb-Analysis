{
 "cells": [
  {
   "cell_type": "code",
   "execution_count": 2,
   "id": "55ee564e-48e4-4758-a55c-009d1b32c93d",
   "metadata": {},
   "outputs": [
    {
     "name": "stderr",
     "output_type": "stream",
     "text": [
      "C:\\Users\\ansankar\\AppData\\Local\\Temp\\ipykernel_30976\\2374109186.py:5: DtypeWarning: Columns (25) have mixed types. Specify dtype option on import or set low_memory=False.\n",
      "  df = pd.read_csv(\"C://Users//ansankar//Downloads//Airbnb_Open_Data (2).csv\")\n"
     ]
    },
    {
     "name": "stdout",
     "output_type": "stream",
     "text": [
      "Box plot saved as 'price_distribution_by_neighborhood_and_room_type_fixed.html'.\n"
     ]
    }
   ],
   "source": [
    "import pandas as pd\n",
    "import plotly.express as px\n",
    "\n",
    "# Load and clean the data from the CSV file\n",
    "df = pd.read_csv(\"C://Users//ansankar//Downloads//Airbnb_Open_Data (2).csv\")\n",
    "df['neighbourhood group'] = df['neighbourhood group'].replace({\n",
    "    'brookln': 'Brooklyn',\n",
    "    'manhatan': 'Manhattan',\n",
    "    'bronx': 'Bronx',\n",
    "    'queens': 'Queens',\n",
    "    'staten island': 'Staten Island'\n",
    "}, regex=True)\n",
    "\n",
    "# Create the box plot\n",
    "fig1 = px.box(df, x='neighbourhood group', y='price', color='room type',\n",
    "               title='Price Distribution by Neighborhood Group and Room Type',\n",
    "               labels={'neighbourhood group': 'Neighborhood Group', 'price': 'Price ($)'},\n",
    "               height=600)\n",
    "\n",
    "# Add dropdown menu for room type selection\n",
    "fig1.update_layout(updatemenus=[\n",
    "    dict(\n",
    "        buttons=list([\n",
    "            dict(label=\"All Room Types\",\n",
    "                 method=\"update\",\n",
    "                 args=[{\"visible\": [True] * len(fig1.data)}]),\n",
    "            dict(label=\"Entire home/apt\",\n",
    "                 method=\"update\",\n",
    "                 args=[{\"visible\": [trace.name == \"Entire home/apt\" for trace in fig1.data]}]),\n",
    "            dict(label=\"Private room\",\n",
    "                 method=\"update\",\n",
    "                 args=[{\"visible\": [trace.name == \"Private room\" for trace in fig1.data]}]),\n",
    "            dict(label=\"Shared room\",\n",
    "                 method=\"update\",\n",
    "                 args=[{\"visible\": [trace.name == \"Shared room\" for trace in fig1.data]}]),\n",
    "        ]),\n",
    "        direction=\"down\",\n",
    "        pad={\"r\": 10, \"t\": 10},\n",
    "        showactive=True,\n",
    "        x=0.1,\n",
    "        xanchor=\"left\",\n",
    "        y=1.1,\n",
    "        yanchor=\"top\"\n",
    "    ),\n",
    "])\n",
    "\n",
    "# Save the plot as an HTML file\n",
    "fig1.write_html(\"price_distribution_by_neighborhood_and_room_type_fixed.html\")\n",
    "\n",
    "print(\"Box plot saved as 'price_distribution_by_neighborhood_and_room_type_fixed.html'.\")\n"
   ]
  },
  {
   "cell_type": "code",
   "execution_count": null,
   "id": "a520f76a-346b-4b41-9585-5de1e4be6ed7",
   "metadata": {},
   "outputs": [],
   "source": []
  }
 ],
 "metadata": {
  "kernelspec": {
   "display_name": "Python 3 (ipykernel)",
   "language": "python",
   "name": "python3"
  },
  "language_info": {
   "codemirror_mode": {
    "name": "ipython",
    "version": 3
   },
   "file_extension": ".py",
   "mimetype": "text/x-python",
   "name": "python",
   "nbconvert_exporter": "python",
   "pygments_lexer": "ipython3",
   "version": "3.11.7"
  }
 },
 "nbformat": 4,
 "nbformat_minor": 5
}
